{
 "cells": [
  {
   "cell_type": "code",
   "execution_count": null,
   "id": "e7597425-899b-4708-8d6f-54f45e90ef18",
   "metadata": {},
   "outputs": [],
   "source": [
    "import smtplib\n",
    "email=input(\"enter the sender email:\")\n",
    "reciever_mail=input(\"enter the reciever mail:\")\n",
    "mail_pass=input(\"enter the password:\")\n",
    "subject=input(\"subject:\")\n",
    "message=input(\"enter the message:\")\n",
    "text=f\"subject {subject}\\n\\n{message}\"\n",
    "server=smtplib.SMTP(\"smtp.gmail.com\",587)\n",
    "server.starttls()\n",
    "server.login(email,mail_pass)\n",
    "server.sendmail(email,reciever_mail,text)\n",
    "\n",
    "print(\"successfully sent the mail\")"
   ]
  },
  {
   "cell_type": "code",
   "execution_count": null,
   "id": "378a82e6-bd18-489a-b1a3-9c70555c9ef9",
   "metadata": {},
   "outputs": [],
   "source": []
  }
 ],
 "metadata": {
  "kernelspec": {
   "display_name": "Python 3 (ipykernel)",
   "language": "python",
   "name": "python3"
  },
  "language_info": {
   "codemirror_mode": {
    "name": "ipython",
    "version": 3
   },
   "file_extension": ".py",
   "mimetype": "text/x-python",
   "name": "python",
   "nbconvert_exporter": "python",
   "pygments_lexer": "ipython3",
   "version": "3.13.2"
  }
 },
 "nbformat": 4,
 "nbformat_minor": 5
}
