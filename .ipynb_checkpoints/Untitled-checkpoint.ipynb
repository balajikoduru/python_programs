{
 "cells": [
  {
   "cell_type": "code",
   "execution_count": null,
   "id": "fa2cccff-023a-4241-b86d-565c34b40439",
   "metadata": {},
   "outputs": [],
   "source": []
  },
  {
   "cell_type": "code",
   "execution_count": null,
   "id": "c4d13a1c-e22a-491a-b5e9-56c5901086c1",
   "metadata": {},
   "outputs": [],
   "source": []
  },
  {
   "cell_type": "code",
   "execution_count": null,
   "id": "9a4d302b-0101-4798-be52-ca44da5d4420",
   "metadata": {},
   "outputs": [],
   "source": [
    "import socket\n",
    "import threading\n",
    "import time\n",
    "\n",
    "def run_server():\n",
    "    s=socket.socket()\n",
    "    print(\"socket created successfully\")\n",
    "    s.bind((\"localhost\",9999))\n",
    "    s.listen(3)\n",
    "    print(\"waiting for the connection\")\n",
    "    while True:\n",
    "        c,addr = s.accept()\n",
    "        print(\"connected with\",addr)\n",
    "        c.send(bytes(\"welcome to balu server\"))\n",
    "        c.close()\n",
    "\n",
    "def run_client():\n",
    "    time.sleep(1)\n",
    "    c=socket.socket()\n",
    "    c.connect((\"localhost\",9999))\n",
    "    print(c.recv(1024).decode())\n",
    "    \n",
    "server_thread=threading.Thread(run_server)\n",
    "client_thread=threading.Thread(run_client)\n",
    "\n",
    "server_thread.start()\n",
    "client_thread.start()\n",
    "\n",
    "server_thread.join()\n",
    "client_thread.join()\n"
   ]
  },
  {
   "cell_type": "code",
   "execution_count": null,
   "id": "72240289-c9f0-4a1a-96aa-fd84762a85b2",
   "metadata": {},
   "outputs": [],
   "source": []
  }
 ],
 "metadata": {
  "kernelspec": {
   "display_name": "Python 3 (ipykernel)",
   "language": "python",
   "name": "python3"
  },
  "language_info": {
   "codemirror_mode": {
    "name": "ipython",
    "version": 3
   },
   "file_extension": ".py",
   "mimetype": "text/x-python",
   "name": "python",
   "nbconvert_exporter": "python",
   "pygments_lexer": "ipython3",
   "version": "3.13.2"
  }
 },
 "nbformat": 4,
 "nbformat_minor": 5
}
