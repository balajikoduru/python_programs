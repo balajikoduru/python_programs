{
 "cells": [
  {
   "cell_type": "code",
   "execution_count": null,
   "id": "9a4d302b-0101-4798-be52-ca44da5d4420",
   "metadata": {},
   "outputs": [
    {
     "name": "stdout",
     "output_type": "stream",
     "text": [
      "socket created successfully\n",
      "waiting for the connection\n"
     ]
    },
    {
     "name": "stdin",
     "output_type": "stream",
     "text": [
      "enter your name: vijay\n"
     ]
    },
    {
     "name": "stdout",
     "output_type": "stream",
     "text": [
      "connected with ('127.0.0.1', 62424) vijay\n",
      "welcome to balaji server\n"
     ]
    }
   ],
   "source": [
    "import socket\n",
    "import threading\n",
    "import time\n",
    "\n",
    "def run_server():\n",
    "    s=socket.socket()\n",
    "    print(\"socket created successfully\")\n",
    "    s.bind((\"localhost\",10048))\n",
    "    s.listen(3)\n",
    "    print(\"waiting for the connection\")\n",
    "    while True:\n",
    "        c,addr = s.accept()\n",
    "        name=c.recv(1024).decode()\n",
    "        print(\"connected with\",addr,name)\n",
    "        c.send(bytes(\"welcome to balaji server\",\"utf-8\"))\n",
    "        c.close()\n",
    "\n",
    "def run_client():\n",
    "    time.sleep(1)\n",
    "    c=socket.socket()\n",
    "    c.connect((\"localhost\",10048))\n",
    "    name=input(\"enter your name:\")\n",
    "    c.send(bytes(name,\"utf-8\"))\n",
    "    print(c.recv(1024).decode())\n",
    "    \n",
    "server_thread=threading.Thread(target=run_server)\n",
    "client_thread=threading.Thread(target=run_client)\n",
    "\n",
    "server_thread.start()\n",
    "client_thread.start()\n",
    "\n",
    "server_thread.join()\n",
    "client_thread.join()\n"
   ]
  },
  {
   "cell_type": "code",
   "execution_count": null,
   "id": "72240289-c9f0-4a1a-96aa-fd84762a85b2",
   "metadata": {},
   "outputs": [],
   "source": []
  }
 ],
 "metadata": {
  "kernelspec": {
   "display_name": "Python 3 (ipykernel)",
   "language": "python",
   "name": "python3"
  },
  "language_info": {
   "codemirror_mode": {
    "name": "ipython",
    "version": 3
   },
   "file_extension": ".py",
   "mimetype": "text/x-python",
   "name": "python",
   "nbconvert_exporter": "python",
   "pygments_lexer": "ipython3",
   "version": "3.13.2"
  }
 },
 "nbformat": 4,
 "nbformat_minor": 5
}
